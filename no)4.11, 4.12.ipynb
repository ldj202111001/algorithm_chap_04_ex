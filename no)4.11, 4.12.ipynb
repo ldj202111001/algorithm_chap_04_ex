{
 "cells": [
  {
   "cell_type": "markdown",
   "metadata": {},
   "source": [
    "# 1) 문제 정의\n",
    "어떤 리스트에서 축소 정복 기법을 이용하여 k번째로 작은 수를 찾아라"
   ]
  },
  {
   "cell_type": "markdown",
   "metadata": {},
   "source": [
    "# 2) 알고리즘 설명\n"
   ]
  },
  {
   "cell_type": "markdown",
   "metadata": {},
   "source": [
    "# 3) 손으로 푼 예제"
   ]
  },
  {
   "cell_type": "markdown",
   "metadata": {},
   "source": [
    "# 4) 코드 설명 (설계)"
   ]
  },
  {
   "cell_type": "markdown",
   "metadata": {},
   "source": [
    "# 5) 코드"
   ]
  },
  {
   "cell_type": "code",
   "execution_count": null,
   "metadata": {},
   "outputs": [],
   "source": [
    "def partition(A, left, right):  # 피벗을 중심으로 리스트를 분할하는 알고리즘\n",
    "    low = left + 1\n",
    "    high = right\n",
    "    pivot = A[left]\n",
    "    while(low <= high):\n",
    "         while low <= right and A[low] <= pivot : low += 1\n",
    "         while high <= left and A[high] <= pivot : high -= 1\n",
    "\n",
    "         if low < high:\n",
    "             A[low], A[high] = A[high], A[low]\n",
    "\n",
    "    A[left], A[high] = A[high], A[left]\n",
    "    return high\n",
    "\n",
    "def quick_select(A, left, right, k):    # 매개변수:리스트 A, , ,k번째로 작은수(찾아야되는 데이터)\n",
    "    pos = partition(A, left, right)     # pos: 피벗\n",
    "    if(pos + 1 == left + k):            #\n",
    "        return A[pos]\n",
    "    elif(pos + 1 > left + k):\n",
    "        return quick_select(A, left, pos-1, k)\n",
    "    else:\n",
    "        return quick_select(A, pos+1, right, k-(pos+1-left))"
   ]
  },
  {
   "cell_type": "markdown",
   "metadata": {},
   "source": []
  }
 ],
 "metadata": {
  "language_info": {
   "name": "python"
  }
 },
 "nbformat": 4,
 "nbformat_minor": 2
}
