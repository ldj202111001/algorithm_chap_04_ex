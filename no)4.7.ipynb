{
 "cells": [
  {
   "cell_type": "markdown",
   "metadata": {},
   "source": [
    "# 1) 문제 정의\n",
    "x의 n-거듭제곱인 x^n을 계산하라"
   ]
  },
  {
   "cell_type": "markdown",
   "metadata": {},
   "source": [
    "# 2) 알고리즘 설명\n",
    "사용자로부터 밑 x와 지수 n을 입력받고, 반복문을 이용해 x를 n번 곱하도록 한다."
   ]
  },
  {
   "cell_type": "markdown",
   "metadata": {},
   "source": [
    "# 3) 손으로 푼 예제"
   ]
  },
  {
   "cell_type": "markdown",
   "metadata": {},
   "source": [
    "# 4) 코드 설명 (설계)\n",
    "1. 자료구조 정의  \n",
    "  밑 x와 지수 n을 사용자에게 입력 받는다  \n",
    "    \n",
    "2. 함수 정의  \n",
    "   slow_power(x, n)\n",
    "   매개변수: 밑x, 지수n  \n",
    "   함수내용: x를 b번 곱한값을 return 에 저장한다.  \n",
    "   리턴 값: return"
   ]
  },
  {
   "cell_type": "markdown",
   "metadata": {},
   "source": [
    "# 5) 코드"
   ]
  },
  {
   "cell_type": "code",
   "execution_count": 10,
   "metadata": {},
   "outputs": [
    {
     "name": "stdout",
     "output_type": "stream",
     "text": [
      "5 ^ 2  = 25\n"
     ]
    }
   ],
   "source": [
    "def slow_power(x, n):\n",
    "    result = 1\n",
    "    for i in range(n):\n",
    "        result = result * x\n",
    "    return result\n",
    "\n",
    "x = input('밑 입력: ')\n",
    "n = input('지수 입력: ')\n",
    "\n",
    "ans = slow_power(int(x), int(n))\n",
    "print(x, '^', n, \" = \", end = \"\")\n",
    "print(ans)"
   ]
  },
  {
   "cell_type": "markdown",
   "metadata": {},
   "source": [
    "\n",
    "# 6) 수행결과\n",
    "입력: 2, 4  \n",
    "![alt text](output1.png)  \n",
    "  \n",
    "입력: 5, 2  \n",
    "![alt text](output2.png)"
   ]
  },
  {
   "cell_type": "markdown",
   "metadata": {},
   "source": [
    "# 7) 복잡도 분석\n",
    "기본연산을 4행의 result = result * x 로 두면  \n",
    "기본연산은 반복문 for i in range(n): 에 의해 n의 비례한 수 만큼 실행된다.  \n",
    "그러므로 시간복잡도는 O(n) 이다."
   ]
  }
 ],
 "metadata": {
  "kernelspec": {
   "display_name": "Python 3",
   "language": "python",
   "name": "python3"
  },
  "language_info": {
   "codemirror_mode": {
    "name": "ipython",
    "version": 3
   },
   "file_extension": ".py",
   "mimetype": "text/x-python",
   "name": "python",
   "nbconvert_exporter": "python",
   "pygments_lexer": "ipython3",
   "version": "3.12.2"
  }
 },
 "nbformat": 4,
 "nbformat_minor": 2
}
