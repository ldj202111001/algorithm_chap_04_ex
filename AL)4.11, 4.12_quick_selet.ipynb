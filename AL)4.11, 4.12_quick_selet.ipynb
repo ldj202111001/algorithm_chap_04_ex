{
 "cells": [
  {
   "cell_type": "markdown",
   "metadata": {},
   "source": [
    "# 1) 문제 정의\n",
    "어떤 리스트에서 축소 정복 기법을 이용하여 k번째로 작은 수를 찾아라"
   ]
  },
  {
   "cell_type": "markdown",
   "metadata": {},
   "source": [
    "# 2) 알고리즘 설명\n",
    "1. 사용자로부터 리스트를 입력받는다.   \n",
    "2. 리스트에서 피벗을 결정한다. (보통 리스트의 맨 왼쪽에 해당한다.)   \n",
    "3. 피벗을 기준으로 왼쪽을 피벗보다 작은 수 오른쪽을 피벗보다 큰 수로 분할한다.\n",
    "4. 피벗의 인덱스 기준으로 k번째 작은수가 왼쪽인지 오른쪽인지 결정한다.\n",
    "   (만약 k번째 작은수가 피벗의 인덱스와 같다면 답이 된다.)\n",
    "5. 방향이 결정되면 다른 방향의 리스트들은 고려하지 않은채 다시 2번부터 반복한다."
   ]
  },
  {
   "cell_type": "markdown",
   "metadata": {},
   "source": [
    "# 3) 손으로 푼 예제\n",
    "![alt text](image-1.png)"
   ]
  },
  {
   "cell_type": "markdown",
   "metadata": {},
   "source": [
    "# 4) 코드 설명 (설계)\n",
    "1. 자료구조 정의   \n",
    "리스트 a: \n",
    "left: 탐색할 리스트의 맨 왼쪽   \n",
    "right: 탐색할 리스트의 맨 오른쪽    \n",
    "    \n",
    "2. 함수 정의   \n",
    "def partition(A, left, right)   \n",
    "매개변수: 리스트, 리스트 첫번째 인덱스, 리스트 마지막 인덱스   \n",
    "함수내용: 피벗을 중심으로 왼쪽은 작은수들 오른쪽은 큰 수로 분할후 피벗의 인덱스를 반환하는 함수      \n",
    "리턴 값: 분할후 피벗의 인덱스      \n",
    "   \n",
    "def quick_select(A, left, right, k)   \n",
    "매개변수: 리스트, 리스트 첫번째 인덱스, 리스트 마지막 인덱스, k번째로 작은수   \n",
    "함수내용: 리스트의 left와 right 사이에서 k번째로 작은 수를 찾아 반환하는 함수     \n",
    "리턴 값: k번째로 작은수    "
   ]
  },
  {
   "cell_type": "markdown",
   "metadata": {},
   "source": [
    "# 5) 코드"
   ]
  },
  {
   "cell_type": "code",
   "execution_count": 1,
   "metadata": {},
   "outputs": [
    {
     "name": "stdout",
     "output_type": "stream",
     "text": [
      "2\n"
     ]
    }
   ],
   "source": [
    "def partition(A, left, right):  # 피벗을 중심으로 리스트를 분할하는 알고리즘\n",
    "    low = left + 1\n",
    "    high = right\n",
    "    pivot = A[left]\n",
    "    while(low <= high):\n",
    "         while low <= right and A[low] <= pivot : low += 1\n",
    "         while high >= left and A[high] > pivot : high -= 1\n",
    "\n",
    "         if low < high:\n",
    "             A[low], A[high] = A[high], A[low]\n",
    "\n",
    "    A[left], A[high] = A[high], A[left]\n",
    "    return high\n",
    "\n",
    "def quick_select(A, left, right, k):    # 매개변수:리스트 A, left~right 분할할 범위 ,k번째로 작은수(찾아야되는 데이터)\n",
    "    pos = partition(A, left, right)     # 피벗의 위치를 반환\n",
    "    if(pos + 1 == left + k):            # 피벗의 인덱스와 k번째로 작은수가 같을 때\n",
    "        return A[pos]\n",
    "    elif(pos + 1 > left + k):\n",
    "        return quick_select(A, left, pos-1, k)\n",
    "    else:\n",
    "        return quick_select(A, pos+1, right, k-(pos+1-left))\n",
    "    \n",
    "a = [1, 3, 9, 4, 2]\n",
    "left = 0\n",
    "right = len(a) - 1\n",
    "\n",
    "ans = quick_select(a, left, right, 2)\n",
    "print(ans)"
   ]
  },
  {
   "cell_type": "markdown",
   "metadata": {},
   "source": [
    "\n",
    "# 6) 수행결과\n",
    "리스트: 1 3 9 4 2   \n",
    "2번째로 작은수 출력: 2   \n",
    "4번째로 작은수 출력: 4\n"
   ]
  },
  {
   "cell_type": "markdown",
   "metadata": {},
   "source": [
    "# 7) 복잡도 분석   \n",
    "최악의 경우 분할할 때마다 부분 리스트의 한쪽은 항목이 없고 다른 한쪽에만 모든 항목이 들어가는 상황이다.   \n",
    "n에 비례하는 분할이 필요하므로 시간 복잡도가 O(n^2) 이 된다."
   ]
  }
 ],
 "metadata": {
  "kernelspec": {
   "display_name": "base",
   "language": "python",
   "name": "python3"
  },
  "language_info": {
   "codemirror_mode": {
    "name": "ipython",
    "version": 3
   },
   "file_extension": ".py",
   "mimetype": "text/x-python",
   "name": "python",
   "nbconvert_exporter": "python",
   "pygments_lexer": "ipython3",
   "version": "3.11.7"
  }
 },
 "nbformat": 4,
 "nbformat_minor": 2
}
